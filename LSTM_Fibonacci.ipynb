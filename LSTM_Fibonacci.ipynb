{
  "nbformat": 4,
  "nbformat_minor": 0,
  "metadata": {
    "colab": {
      "provenance": [],
      "authorship_tag": "ABX9TyOO5c7TSsYROeMP0m8o/QAT",
      "include_colab_link": true
    },
    "kernelspec": {
      "name": "python3",
      "display_name": "Python 3"
    },
    "language_info": {
      "name": "python"
    }
  },
  "cells": [
    {
      "cell_type": "markdown",
      "metadata": {
        "id": "view-in-github",
        "colab_type": "text"
      },
      "source": [
        "<a href=\"https://colab.research.google.com/github/pablogcgh/LSTM-experiments/blob/main/LSTM_Fibonacci.ipynb\" target=\"_parent\"><img src=\"https://colab.research.google.com/assets/colab-badge.svg\" alt=\"Open In Colab\"/></a>"
      ]
    },
    {
      "cell_type": "code",
      "execution_count": 1,
      "metadata": {
        "colab": {
          "base_uri": "https://localhost:8080/"
        },
        "id": "zF-tvmMeCoFu",
        "outputId": "2b8f1910-fe0a-40dc-fc4a-ee3544f1bd61"
      },
      "outputs": [
        {
          "output_type": "stream",
          "name": "stderr",
          "text": [
            "/usr/local/lib/python3.11/dist-packages/keras/src/layers/rnn/rnn.py:200: UserWarning: Do not pass an `input_shape`/`input_dim` argument to a layer. When using Sequential models, prefer using an `Input(shape)` object as the first layer in the model instead.\n",
            "  super().__init__(**kwargs)\n"
          ]
        },
        {
          "output_type": "stream",
          "name": "stdout",
          "text": [
            "\u001b[1m1/1\u001b[0m \u001b[32m━━━━━━━━━━━━━━━━━━━━\u001b[0m\u001b[37m\u001b[0m \u001b[1m0s\u001b[0m 193ms/step\n",
            "Predicted next number: 6775.154296875\n"
          ]
        }
      ],
      "source": [
        "import numpy as np\n",
        "import tensorflow as tf\n",
        "from tensorflow.keras.models import Sequential\n",
        "from tensorflow.keras.layers import LSTM, Dense\n",
        "\n",
        "# 1) Generate a simple dataset (Fibonacci sequence)\n",
        "def generate_sequence(n_steps):\n",
        "    sequence = [0, 1]\n",
        "    for i in range(n_steps - 2):\n",
        "        sequence.append(sequence[-1] + sequence[-2])\n",
        "    return sequence\n",
        "\n",
        "# 2) Prepare the dataset\n",
        "def create_dataset(sequence, time_steps):\n",
        "    X, y = [], []\n",
        "    for i in range(len(sequence) - time_steps):\n",
        "        X.append(sequence[i:i + time_steps])\n",
        "        y.append(sequence[i + time_steps])\n",
        "    return np.array(X), np.array(y)\n",
        "\n",
        "# 3) We fix the total steps and number of time steps\n",
        "n_steps = 20  # Total length of sequence\n",
        "time_steps = 5  # Input sequence length\n",
        "\n",
        "# 4) We create a sequence of data for our LSTM model\n",
        "sequence = generate_sequence(n_steps)\n",
        "X, y = create_dataset(sequence, time_steps)\n",
        "X = X.reshape((X.shape[0], X.shape[1], 1))  # Reshape for LSTM\n",
        "\n",
        "# 5) We build the LSTM model\n",
        "model = Sequential([\n",
        "    LSTM(50, activation='relu', input_shape=(time_steps, 1)),\n",
        "    Dense(1)\n",
        "])\n",
        "\n",
        "# 6) We compile the model\n",
        "model.compile(optimizer='adam', loss='mse')\n",
        "\n",
        "# 7) We train the model\n",
        "model.fit(X, y, epochs=200, verbose=0)\n",
        "\n",
        "# 8) We predict the 21-st value in the Fibonacci sequence, using the 5 previous values\n",
        "sample_input = np.array(sequence[-time_steps:]).reshape((1, time_steps, 1))\n",
        "predicted = model.predict(sample_input)\n",
        "print(f\"Predicted next number: {predicted[0][0]}\")"
      ]
    }
  ]
}